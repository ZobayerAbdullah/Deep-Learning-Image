{
  "nbformat": 4,
  "nbformat_minor": 0,
  "metadata": {
    "colab": {
      "provenance": []
    },
    "kernelspec": {
      "name": "python3",
      "display_name": "Python 3"
    },
    "language_info": {
      "name": "python"
    },
    "accelerator": "GPU",
    "gpuClass": "standard"
  },
  "cells": [
    {
      "cell_type": "code",
      "execution_count": null,
      "metadata": {
        "id": "yR2iSpCscmD5"
      },
      "outputs": [],
      "source": [
        "!mkdir -p ~/.kaggle/ && mv kaggle.json ~/.kaggle/ && chmod 600 ~/.kaggle/kaggle.json"
      ]
    },
    {
      "cell_type": "code",
      "source": [
        "!kaggle datasets download 'muratkokludataset/rice-image-dataset'"
      ],
      "metadata": {
        "colab": {
          "base_uri": "https://localhost:8080/"
        },
        "id": "-RlLMMLueauN",
        "outputId": "c3bec636-0b51-4f78-ea4d-5e3f2982cef1"
      },
      "execution_count": null,
      "outputs": [
        {
          "output_type": "stream",
          "name": "stdout",
          "text": [
            "Downloading rice-image-dataset.zip to /content\n",
            " 99% 217M/219M [00:05<00:00, 58.8MB/s]\n",
            "100% 219M/219M [00:05<00:00, 40.5MB/s]\n"
          ]
        }
      ]
    },
    {
      "cell_type": "code",
      "source": [
        "!unzip rice-image-dataset.zip"
      ],
      "metadata": {
        "id": "NHGYPemDeh67"
      },
      "execution_count": null,
      "outputs": []
    },
    {
      "cell_type": "code",
      "source": [
        "import numpy as np\n",
        "from matplotlib import pyplot as plt\n",
        "import tensorflow as tf"
      ],
      "metadata": {
        "id": "ChOSVB9newCR"
      },
      "execution_count": null,
      "outputs": []
    },
    {
      "cell_type": "code",
      "source": [
        "data = tf.keras.preprocessing.image_dataset_from_directory(\"/content/Rice_Image_Dataset\")"
      ],
      "metadata": {
        "colab": {
          "base_uri": "https://localhost:8080/"
        },
        "id": "WZmbB7l9esR3",
        "outputId": "86a3996d-bfba-4047-dadc-944b6a7d7194"
      },
      "execution_count": null,
      "outputs": [
        {
          "output_type": "stream",
          "name": "stdout",
          "text": [
            "Found 75000 files belonging to 5 classes.\n"
          ]
        }
      ]
    },
    {
      "cell_type": "code",
      "source": [
        "data = data.map(lambda x,y: (x/255, y))"
      ],
      "metadata": {
        "id": "-PPJWR2dfdu8"
      },
      "execution_count": null,
      "outputs": []
    },
    {
      "cell_type": "code",
      "source": [
        "train_size = int(len(data)*.9)\n",
        "val_size = int(len(data)*.1)"
      ],
      "metadata": {
        "id": "4ay_8eJufemQ"
      },
      "execution_count": null,
      "outputs": []
    },
    {
      "cell_type": "code",
      "source": [
        "train = data.take(train_size)\n",
        "val = data.skip(train_size).take(val_size)"
      ],
      "metadata": {
        "id": "YPtwOLbsfliI"
      },
      "execution_count": null,
      "outputs": []
    },
    {
      "cell_type": "code",
      "source": [
        "from tensorflow.keras.models import Sequential\n",
        "from tensorflow.keras.layers import Conv2D, MaxPooling2D, Dense, Flatten, Dropout"
      ],
      "metadata": {
        "id": "hrcC2-fofph0"
      },
      "execution_count": null,
      "outputs": []
    },
    {
      "cell_type": "code",
      "source": [
        "model = Sequential()\n",
        "model.add(Conv2D(16, (3,3), activation='relu', input_shape=(256,256,3)))\n",
        "model.add(MaxPooling2D())\n",
        "model.add(Conv2D(32, (3,3), activation='relu'))\n",
        "model.add(MaxPooling2D())\n",
        "model.add(Conv2D(16, (3,3),  activation='relu'))\n",
        "model.add(MaxPooling2D())\n",
        "model.add(Flatten())\n",
        "model.add(Dense(256, activation='relu'))\n",
        "model.add(Dense(5, activation='sigmoid'))"
      ],
      "metadata": {
        "id": "jErUkwjufvEI"
      },
      "execution_count": null,
      "outputs": []
    },
    {
      "cell_type": "code",
      "source": [
        "model.summary()"
      ],
      "metadata": {
        "colab": {
          "base_uri": "https://localhost:8080/"
        },
        "id": "rDUVuKecf1Sp",
        "outputId": "c935b78d-ad76-4593-c699-679ce6f4594a"
      },
      "execution_count": null,
      "outputs": [
        {
          "output_type": "stream",
          "name": "stdout",
          "text": [
            "Model: \"sequential_1\"\n",
            "_________________________________________________________________\n",
            " Layer (type)                Output Shape              Param #   \n",
            "=================================================================\n",
            " conv2d_3 (Conv2D)           (None, 254, 254, 16)      448       \n",
            "                                                                 \n",
            " max_pooling2d_3 (MaxPooling  (None, 127, 127, 16)     0         \n",
            " 2D)                                                             \n",
            "                                                                 \n",
            " conv2d_4 (Conv2D)           (None, 125, 125, 32)      4640      \n",
            "                                                                 \n",
            " max_pooling2d_4 (MaxPooling  (None, 62, 62, 32)       0         \n",
            " 2D)                                                             \n",
            "                                                                 \n",
            " conv2d_5 (Conv2D)           (None, 60, 60, 16)        4624      \n",
            "                                                                 \n",
            " max_pooling2d_5 (MaxPooling  (None, 30, 30, 16)       0         \n",
            " 2D)                                                             \n",
            "                                                                 \n",
            " flatten_1 (Flatten)         (None, 14400)             0         \n",
            "                                                                 \n",
            " dense_2 (Dense)             (None, 256)               3686656   \n",
            "                                                                 \n",
            " dense_3 (Dense)             (None, 5)                 1285      \n",
            "                                                                 \n",
            "=================================================================\n",
            "Total params: 3,697,653\n",
            "Trainable params: 3,697,653\n",
            "Non-trainable params: 0\n",
            "_________________________________________________________________\n"
          ]
        }
      ]
    },
    {
      "cell_type": "code",
      "source": [
        "logdir='logs'\n",
        "tensorboard_callback = tf.keras.callbacks.TensorBoard(log_dir=logdir)\n",
        "\n",
        "\n",
        "model.compile(optimizer='adam',loss = tf.keras.losses.SparseCategoricalCrossentropy(from_logits=True), metrics=['accuracy'])\n",
        "hist = model.fit(train, epochs=10, validation_data=val, callbacks=[tensorboard_callback])"
      ],
      "metadata": {
        "colab": {
          "base_uri": "https://localhost:8080/"
        },
        "id": "UxQVK6dIf9Rg",
        "outputId": "07302f20-5ed5-4757-a2c9-7c8643c54014"
      },
      "execution_count": null,
      "outputs": [
        {
          "output_type": "stream",
          "name": "stdout",
          "text": [
            "Epoch 1/10\n"
          ]
        },
        {
          "output_type": "stream",
          "name": "stderr",
          "text": [
            "/usr/local/lib/python3.7/dist-packages/tensorflow/python/util/dispatch.py:1082: UserWarning: \"`sparse_categorical_crossentropy` received `from_logits=True`, but the `output` argument was produced by a sigmoid or softmax activation and thus does not represent logits. Was this intended?\"\n",
            "  return dispatch_target(*args, **kwargs)\n"
          ]
        },
        {
          "output_type": "stream",
          "name": "stdout",
          "text": [
            "2109/2109 [==============================] - 266s 120ms/step - loss: 0.1666 - accuracy: 0.9387 - val_loss: 0.0799 - val_accuracy: 0.9732\n",
            "Epoch 2/10\n",
            "2109/2109 [==============================] - 189s 89ms/step - loss: 0.0867 - accuracy: 0.9701 - val_loss: 0.0762 - val_accuracy: 0.9744\n",
            "Epoch 3/10\n",
            "2109/2109 [==============================] - 189s 90ms/step - loss: 0.0770 - accuracy: 0.9737 - val_loss: 0.0809 - val_accuracy: 0.9729\n",
            "Epoch 4/10\n",
            "2109/2109 [==============================] - 250s 118ms/step - loss: 0.0683 - accuracy: 0.9766 - val_loss: 0.0631 - val_accuracy: 0.9804\n",
            "Epoch 5/10\n",
            "2109/2109 [==============================] - 251s 119ms/step - loss: 0.0633 - accuracy: 0.9786 - val_loss: 0.0653 - val_accuracy: 0.9802\n",
            "Epoch 6/10\n",
            "2109/2109 [==============================] - 249s 118ms/step - loss: 0.0571 - accuracy: 0.9804 - val_loss: 0.0682 - val_accuracy: 0.9792\n",
            "Epoch 7/10\n",
            "2109/2109 [==============================] - 191s 90ms/step - loss: 0.0518 - accuracy: 0.9821 - val_loss: 0.0563 - val_accuracy: 0.9825\n",
            "Epoch 8/10\n",
            "2109/2109 [==============================] - 249s 118ms/step - loss: 0.0456 - accuracy: 0.9842 - val_loss: 0.0832 - val_accuracy: 0.9756\n",
            "Epoch 9/10\n",
            "2109/2109 [==============================] - 250s 118ms/step - loss: 0.0384 - accuracy: 0.9872 - val_loss: 0.0895 - val_accuracy: 0.9750\n",
            "Epoch 10/10\n",
            "2109/2109 [==============================] - 189s 89ms/step - loss: 0.0329 - accuracy: 0.9885 - val_loss: 0.0511 - val_accuracy: 0.9856\n"
          ]
        }
      ]
    },
    {
      "cell_type": "code",
      "source": [
        "model.save(\"rice-prediction.h5\")\n",
        "from google.colab import files\n",
        "files.download(\"rice-prediction.h5\")"
      ],
      "metadata": {
        "colab": {
          "base_uri": "https://localhost:8080/",
          "height": 34
        },
        "id": "s7u8PDtzgG4n",
        "outputId": "b838ed6d-6970-4f98-826d-a856fa51fd45"
      },
      "execution_count": null,
      "outputs": [
        {
          "output_type": "display_data",
          "data": {
            "text/plain": [
              "<IPython.core.display.Javascript object>"
            ],
            "application/javascript": [
              "\n",
              "    async function download(id, filename, size) {\n",
              "      if (!google.colab.kernel.accessAllowed) {\n",
              "        return;\n",
              "      }\n",
              "      const div = document.createElement('div');\n",
              "      const label = document.createElement('label');\n",
              "      label.textContent = `Downloading \"${filename}\": `;\n",
              "      div.appendChild(label);\n",
              "      const progress = document.createElement('progress');\n",
              "      progress.max = size;\n",
              "      div.appendChild(progress);\n",
              "      document.body.appendChild(div);\n",
              "\n",
              "      const buffers = [];\n",
              "      let downloaded = 0;\n",
              "\n",
              "      const channel = await google.colab.kernel.comms.open(id);\n",
              "      // Send a message to notify the kernel that we're ready.\n",
              "      channel.send({})\n",
              "\n",
              "      for await (const message of channel.messages) {\n",
              "        // Send a message to notify the kernel that we're ready.\n",
              "        channel.send({})\n",
              "        if (message.buffers) {\n",
              "          for (const buffer of message.buffers) {\n",
              "            buffers.push(buffer);\n",
              "            downloaded += buffer.byteLength;\n",
              "            progress.value = downloaded;\n",
              "          }\n",
              "        }\n",
              "      }\n",
              "      const blob = new Blob(buffers, {type: 'application/binary'});\n",
              "      const a = document.createElement('a');\n",
              "      a.href = window.URL.createObjectURL(blob);\n",
              "      a.download = filename;\n",
              "      div.appendChild(a);\n",
              "      a.click();\n",
              "      div.remove();\n",
              "    }\n",
              "  "
            ]
          },
          "metadata": {}
        },
        {
          "output_type": "display_data",
          "data": {
            "text/plain": [
              "<IPython.core.display.Javascript object>"
            ],
            "application/javascript": [
              "download(\"download_df51a69a-6413-49f0-aef0-f3f66a9f355f\", \"rice-prediction.h5\", 44426528)"
            ]
          },
          "metadata": {}
        }
      ]
    }
  ]
}